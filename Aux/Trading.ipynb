{
 "cells": [
  {
   "cell_type": "markdown",
   "metadata": {},
   "source": [
    "## Bot para Trading con Simple Linear Regression\n",
    "\n",
    "#### INSTALACION DE PYTHON\n",
    "\n",
    "Entre a este link https://docs.continuum.io/anaconda/install/windows.html y siga las instrucciones.\n",
    "\n",
    "#### INSTALACION DE LIBRERIAS\n",
    "\n",
    "numpy, pandas y matplotlib: vienen instaladas con anaconda. Sklearn: http://scikit-learn.org/stable/install.html"
   ]
  },
  {
   "cell_type": "code",
   "execution_count": 1,
   "metadata": {},
   "outputs": [
    {
     "ename": "ModuleNotFoundError",
     "evalue": "No module named 'pandas_datareader'",
     "output_type": "error",
     "traceback": [
      "\u001b[0;31m---------------------------------------------------------------------------\u001b[0m",
      "\u001b[0;31mModuleNotFoundError\u001b[0m                       Traceback (most recent call last)",
      "\u001b[0;32m<ipython-input-1-eb63a37ec0b4>\u001b[0m in \u001b[0;36m<module>\u001b[0;34m()\u001b[0m\n\u001b[1;32m     13\u001b[0m \u001b[0;32mimport\u001b[0m \u001b[0mmatplotlib\u001b[0m\u001b[0;34m.\u001b[0m\u001b[0mpyplot\u001b[0m \u001b[0;32mas\u001b[0m \u001b[0mplt\u001b[0m\u001b[0;34m\u001b[0m\u001b[0m\n\u001b[1;32m     14\u001b[0m \u001b[0;32mimport\u001b[0m \u001b[0mpandas\u001b[0m \u001b[0;32mas\u001b[0m \u001b[0mpd\u001b[0m\u001b[0;34m\u001b[0m\u001b[0m\n\u001b[0;32m---> 15\u001b[0;31m \u001b[0;32mimport\u001b[0m \u001b[0mpandas_datareader\u001b[0m\u001b[0;34m.\u001b[0m\u001b[0mdata\u001b[0m \u001b[0;32mas\u001b[0m \u001b[0mweb\u001b[0m\u001b[0;34m\u001b[0m\u001b[0m\n\u001b[0m\u001b[1;32m     16\u001b[0m \u001b[0;32mfrom\u001b[0m \u001b[0msklearn\u001b[0m \u001b[0;32mimport\u001b[0m \u001b[0mlinear_model\u001b[0m\u001b[0;34m\u001b[0m\u001b[0m\n\u001b[1;32m     17\u001b[0m \u001b[0;32mfrom\u001b[0m \u001b[0msklearn\u001b[0m\u001b[0;34m.\u001b[0m\u001b[0mmetrics\u001b[0m \u001b[0;32mimport\u001b[0m \u001b[0mconfusion_matrix\u001b[0m\u001b[0;34m\u001b[0m\u001b[0m\n",
      "\u001b[0;31mModuleNotFoundError\u001b[0m: No module named 'pandas_datareader'"
     ]
    }
   ],
   "source": [
    "#Programa Ejemplo de como programar una estrategia automatica \\n\",\n",
    "#utilizando una regresión linear simple \\n\",\n",
    "#Utilizando datos diarios\n",
    "#Implemantados por: Juan G. Lazo Lazo , Claudio Paul Ortega Ariza \\n\",\n",
    "#Departamento Academico de Ingenieria, Universidad del Pacífico \\n\",\n",
    "#email: jg.lazol@up.edu.pe  \\n\",\n",
    "#Versión: 02.0.0   \\n\",\n",
    "# 09/11/2017  \\n\", \n",
    "#---------------------------------------------------------------------\n",
    "import datetime as dt\n",
    "import itertools\n",
    "import numpy as np\n",
    "import matplotlib.pyplot as plt\n",
    "import pandas as pd\n",
    "import pandas_datareader.data as web\n",
    "from sklearn import linear_model\n",
    "from sklearn.metrics import confusion_matrix"
   ]
  },
  {
   "cell_type": "code",
   "execution_count": 2,
   "metadata": {},
   "outputs": [
    {
     "ename": "NameError",
     "evalue": "name 'web' is not defined",
     "output_type": "error",
     "traceback": [
      "\u001b[0;31m---------------------------------------------------------------------------\u001b[0m",
      "\u001b[0;31mNameError\u001b[0m                                 Traceback (most recent call last)",
      "\u001b[0;32m<ipython-input-2-4d3154d11640>\u001b[0m in \u001b[0;36m<module>\u001b[0;34m()\u001b[0m\n\u001b[1;32m      1\u001b[0m \u001b[0;31m#Importamos los datos descargados desde Yahoo Finance - Microsoft Semanales\u001b[0m\u001b[0;34m\u001b[0m\u001b[0;34m\u001b[0m\u001b[0m\n\u001b[1;32m      2\u001b[0m \u001b[0;31m#df = pd.read_csv('MSFT.csv', index_col=0, parse_dates=True)\u001b[0m\u001b[0;34m\u001b[0m\u001b[0;34m\u001b[0m\u001b[0m\n\u001b[0;32m----> 3\u001b[0;31m \u001b[0mdf\u001b[0m \u001b[0;34m=\u001b[0m \u001b[0mweb\u001b[0m\u001b[0;34m.\u001b[0m\u001b[0mget_data_yahoo\u001b[0m\u001b[0;34m(\u001b[0m\u001b[0;34m'MSFT'\u001b[0m\u001b[0;34m,\u001b[0m \u001b[0mstart\u001b[0m\u001b[0;34m=\u001b[0m\u001b[0mdt\u001b[0m\u001b[0;34m.\u001b[0m\u001b[0mdate\u001b[0m\u001b[0;34m(\u001b[0m\u001b[0;36m2006\u001b[0m\u001b[0;34m,\u001b[0m\u001b[0;36m11\u001b[0m\u001b[0;34m,\u001b[0m\u001b[0;36m1\u001b[0m\u001b[0;34m)\u001b[0m\u001b[0;34m,\u001b[0m \u001b[0mend\u001b[0m\u001b[0;34m=\u001b[0m\u001b[0mdt\u001b[0m\u001b[0;34m.\u001b[0m\u001b[0mdate\u001b[0m\u001b[0;34m(\u001b[0m\u001b[0;36m2016\u001b[0m\u001b[0;34m,\u001b[0m\u001b[0;36m11\u001b[0m\u001b[0;34m,\u001b[0m\u001b[0;36m25\u001b[0m\u001b[0;34m)\u001b[0m\u001b[0;34m)\u001b[0m\u001b[0;34m\u001b[0m\u001b[0m\n\u001b[0m",
      "\u001b[0;31mNameError\u001b[0m: name 'web' is not defined"
     ]
    }
   ],
   "source": [
    "#Importamos los datos descargados desde Yahoo Finance - Microsoft Semanales\n",
    "#df = pd.read_csv('MSFT.csv', index_col=0, parse_dates=True)\n",
    "df = web.get_data_yahoo('MSFT', start=dt.date(2006,11,1), end=dt.date(2016,11,25))"
   ]
  },
  {
   "cell_type": "code",
   "execution_count": null,
   "metadata": {
    "collapsed": true
   },
   "outputs": [],
   "source": [
    "df.head() #Mostramos las 5 primeras semanas"
   ]
  },
  {
   "cell_type": "code",
   "execution_count": null,
   "metadata": {
    "collapsed": true
   },
   "outputs": [],
   "source": [
    "df.tail() #Mostramos las 5 últimas semanas"
   ]
  },
  {
   "cell_type": "code",
   "execution_count": null,
   "metadata": {
    "collapsed": true
   },
   "outputs": [],
   "source": [
    "pd.isnull(df).any() #Verificamos si hay datos nulos"
   ]
  },
  {
   "cell_type": "code",
   "execution_count": null,
   "metadata": {
    "collapsed": true
   },
   "outputs": [],
   "source": [
    "df = df.drop(['Adj Close', 'Volume'], axis=1) #Eliminamos las columnas que no usaremos"
   ]
  },
  {
   "cell_type": "code",
   "execution_count": null,
   "metadata": {
    "collapsed": true
   },
   "outputs": [],
   "source": [
    "def sma(series, periods):\n",
    "    '''Returns simple moving average (sma) for given series.\n",
    "    Parameters are stock's yahoo finance data in DataFrame format and the number of periods of the sma'''\n",
    "    sma = series.rolling(window=periods).mean()\n",
    "    return sma"
   ]
  },
  {
   "cell_type": "code",
   "execution_count": null,
   "metadata": {
    "collapsed": true
   },
   "outputs": [],
   "source": [
    "df['sma10'] = sma(df['Close'],10)"
   ]
  },
  {
   "cell_type": "code",
   "execution_count": null,
   "metadata": {
    "collapsed": true
   },
   "outputs": [],
   "source": [
    "def displaced_sma(series, sma_periods, disp_periods=1):\n",
    "    '''Calculates simple moving average (sma) for a stock adj close price.\n",
    "    Parameters are stock's yahoo finance data in DataFrame format, the number of periods of the sma\n",
    "    and the number of periods to be displaced. Default: disp_periods = 1'''\n",
    "    normal_sma = series.rolling(window=sma_periods).mean()\n",
    "    displaced_sma = normal_sma.shift(disp_periods)\n",
    "    return displaced_sma"
   ]
  },
  {
   "cell_type": "code",
   "execution_count": null,
   "metadata": {
    "collapsed": true
   },
   "outputs": [],
   "source": [
    "df['dis_sma10'] = displaced_sma(df['Close'],10,1)"
   ]
  },
  {
   "cell_type": "code",
   "execution_count": null,
   "metadata": {
    "collapsed": true
   },
   "outputs": [],
   "source": [
    "def ema(series, periods):\n",
    "    '''Calculates exponential moving average (ema) for a stock adj close price.\n",
    "    Parameters are stock's yahoo finance data in DataFrame format and the number of periods of the ema'''\n",
    "    series_copy = series.copy()\n",
    "    series_copy[series_copy.index[periods-1]] = np.mean( series_copy[:periods] ) #first value is sum of avg losses\n",
    "    series_copy = series_copy.drop(series_copy.index[:(periods-1)])\n",
    "    ema = series_copy.ewm(ignore_na=False, span=periods, min_periods=0, adjust=False).mean()\n",
    "    return ema"
   ]
  },
  {
   "cell_type": "code",
   "execution_count": null,
   "metadata": {
    "collapsed": true
   },
   "outputs": [],
   "source": [
    "df['ema9'] = ema(df['Close'],9)"
   ]
  },
  {
   "cell_type": "code",
   "execution_count": null,
   "metadata": {
    "collapsed": true
   },
   "outputs": [],
   "source": [
    "def macd(series, lt_period=26, st_period=12, signal_periods=9):\n",
    "    '''Calculates macd line, signal and histogram for a stock adj close price.\n",
    "    Parameter is stock's yahoo finance data in DataFrame'''\n",
    "    #Calculates emas\n",
    "    st_ema = ema(series, st_period)\n",
    "    lt_ema = ema(series, lt_period)\n",
    "    \n",
    "    #Calculate macd line\n",
    "    dif = st_ema - lt_ema\n",
    "    macd_line = dif.drop(dif.index[:((26))])\n",
    "    \n",
    "    #Calculate macd signal\n",
    "    d = macd_line\n",
    "    d[d.index[(lt_period+signal_periods)-1]] = np.mean( d[:(lt_period+signal_periods)] ) #first value is sum of avg losses\n",
    "    d = d.drop(d.index[:(((lt_period+signal_periods)-1))])\n",
    "    macd_signal = d.ewm(ignore_na=False,span=9,min_periods=0,adjust=False).mean()\n",
    "    \n",
    "    #calculate macd hsit\n",
    "    macd_hist = macd_line - macd_signal.fillna(0)\n",
    "    \n",
    "    return macd_line, macd_signal, macd_hist"
   ]
  },
  {
   "cell_type": "code",
   "execution_count": null,
   "metadata": {
    "collapsed": true
   },
   "outputs": [],
   "source": [
    "macd_line, macd_signal, macd_hist = macd(df['Close'])\n",
    "df['macd_line'] = macd_line\n",
    "df['macd_signal'] = macd_signal\n",
    "df['macd_hist'] = macd_hist"
   ]
  },
  {
   "cell_type": "code",
   "execution_count": null,
   "metadata": {
    "collapsed": true
   },
   "outputs": [],
   "source": []
  },
  {
   "cell_type": "code",
   "execution_count": null,
   "metadata": {
    "collapsed": true
   },
   "outputs": [],
   "source": [
    "def bollinger_bands(series, periods=14):\n",
    "    '''Calculates bollinger bands for a stock adj close price.\n",
    "    Parameter is stock's yahoo finance data in DataFrame'''\n",
    "    std = series.rolling(window=periods).std(ddof=0)\n",
    "    sma = series.rolling(window=periods).mean()\n",
    "\n",
    "    upper = sma + 2*std\n",
    "    lower = sma - 2*std\n",
    "    return upper, lower "
   ]
  },
  {
   "cell_type": "code",
   "execution_count": null,
   "metadata": {
    "collapsed": true
   },
   "outputs": [],
   "source": [
    "df['bb_upper'], df['bb_lower'] = bollinger_bands(df['Close'],14)"
   ]
  },
  {
   "cell_type": "code",
   "execution_count": null,
   "metadata": {
    "collapsed": true
   },
   "outputs": [],
   "source": [
    "def didi_index(series):\n",
    "    '''Calculates didi index for a stock adj close price.\n",
    "    Parameter is stock's yahoo finance data in DataFrame'''\n",
    "    sma3 = series.rolling(window=3).mean()\n",
    "    sma8 = series.rolling(window=8).mean()\n",
    "    sma20 = series.rolling(window=20).mean()\n",
    "    \n",
    "    upper = sma20 - sma8\n",
    "    lower = sma3 - sma8 + sma20 - sma20 #min_periods = 20\n",
    "    return upper, lower"
   ]
  },
  {
   "cell_type": "code",
   "execution_count": null,
   "metadata": {
    "collapsed": true
   },
   "outputs": [],
   "source": [
    "df['didi_upper'], df['didi_lower'] = didi_index(df['Close'])"
   ]
  },
  {
   "cell_type": "code",
   "execution_count": null,
   "metadata": {
    "collapsed": true
   },
   "outputs": [],
   "source": [
    "df = df.dropna() #Eliminamos las filas que no tengan todos los valores completos"
   ]
  },
  {
   "cell_type": "code",
   "execution_count": null,
   "metadata": {
    "collapsed": true
   },
   "outputs": [],
   "source": [
    "#Definimos nuestra compra: cuando el retorno es mayor a 1% en 4 días\n",
    "df['Retorno>1%'] = (((df['Close'].shift(-3) - df['Close']) / df['Close']) > 0.01).astype(int)"
   ]
  },
  {
   "cell_type": "code",
   "execution_count": null,
   "metadata": {
    "collapsed": true
   },
   "outputs": [],
   "source": [
    "df_inputs = df.drop(['Retorno>1%'], axis=1) #Separamos las columnas que entraran al modelo como predictoras\n",
    "\n",
    "df_label = df['Retorno>1%'] #Separamos las columnas que entraran al modelo como label"
   ]
  },
  {
   "cell_type": "code",
   "execution_count": null,
   "metadata": {
    "collapsed": true
   },
   "outputs": [],
   "source": [
    "sep_index = int(df.shape[0]*0.85) #Generamos el indice por el cual separaremos nuestros datos de entrenamiento y prueba\n",
    "\n",
    "#Datos de entrenamiento\n",
    "X_train = df_inputs.iloc[0:sep_index,:].values \n",
    "y_train = df_label.iloc[0:sep_index].values\n",
    "\n",
    "#Datos de prueba\n",
    "X_test = df_inputs.iloc[sep_index:,:].values\n",
    "y_test = df_label.iloc[sep_index:].values"
   ]
  },
  {
   "cell_type": "code",
   "execution_count": null,
   "metadata": {
    "collapsed": true
   },
   "outputs": [],
   "source": [
    "model = linear_model.LinearRegression(normalize=True) #Definimos el modelo a usar para generar nuestro algoritmo de trading"
   ]
  },
  {
   "cell_type": "code",
   "execution_count": null,
   "metadata": {
    "collapsed": true
   },
   "outputs": [],
   "source": [
    "model.fit(X_train, y_train) #Se realiza el ajuste del modelo a los datos de entrenamiento"
   ]
  },
  {
   "cell_type": "code",
   "execution_count": null,
   "metadata": {
    "collapsed": true
   },
   "outputs": [],
   "source": [
    "y_predicted_train = model.predict(X_train) #Salida del modelo para los datos de entrenamiento\n",
    "y_predicted_test = model.predict(X_test) #Salida del modelo para los datos de prueba\n",
    "\n",
    "threshold = 0.5 #Valor por el cual definiremos cuando una salida es efectivamente una compra (1)\n",
    "\n",
    "y_predicted_train[y_predicted_train > threshold] = 1\n",
    "y_predicted_train[y_predicted_train <= threshold] = 0\n",
    "\n",
    "y_predicted_test[y_predicted_test > threshold] = 1\n",
    "y_predicted_test[y_predicted_test <= threshold] = 0"
   ]
  },
  {
   "cell_type": "code",
   "execution_count": null,
   "metadata": {
    "collapsed": true
   },
   "outputs": [],
   "source": [
    "#definiendo una función para graficar la matriz de confusión\n",
    "def plot_confusion_matrix(cm, classes, normalize=False, title='Confusion matrix', cmap=plt.cm.Blues):\n",
    "    \"\"\"\n",
    "    This function prints and plots the confusion matrix.\n",
    "    Normalization can be applied by setting `normalize=True`.\n",
    "    \"\"\"\n",
    "    if normalize:\n",
    "        cm = cm.astype('float') / cm.sum(axis=1)[:, np.newaxis]\n",
    "        print(\"Normalized confusion matrix\");\n",
    "    else:\n",
    "        print('Confusion matrix, without normalization');\n",
    "\n",
    "    print(cm);\n",
    "\n",
    "    plt.imshow(cm, interpolation='nearest', cmap=cmap)\n",
    "    plt.title(title)\n",
    "    plt.colorbar()\n",
    "    tick_marks = np.arange(len(classes))\n",
    "    plt.xticks(tick_marks, classes, rotation=45)\n",
    "    plt.yticks(tick_marks, classes)\n",
    "\n",
    "    fmt = '.2f' if normalize else 'd'\n",
    "    thresh = cm.max() / 2.\n",
    "    for i, j in itertools.product(range(cm.shape[0]), range(cm.shape[1])):\n",
    "        plt.text(j, i, format(cm[i, j], fmt),\n",
    "                 horizontalalignment=\"center\",\n",
    "                 color=\"orange\" if cm[i, j] > thresh else \"black\")\n",
    "\n",
    "    plt.tight_layout()\n",
    "    plt.ylabel('True label')\n",
    "    plt.xlabel('Predicted label')"
   ]
  },
  {
   "cell_type": "code",
   "execution_count": null,
   "metadata": {
    "collapsed": true
   },
   "outputs": [],
   "source": [
    "# Compute confusion matrix\n",
    "classes_names = np.array([0,1])\n",
    "train_matrix = confusion_matrix(y_train,y_predicted_train)\n",
    "cnf_matrix = confusion_matrix(y_test, y_predicted_test)\n",
    "np.set_printoptions(precision=2)"
   ]
  },
  {
   "cell_type": "code",
   "execution_count": null,
   "metadata": {
    "collapsed": true
   },
   "outputs": [],
   "source": [
    "# Plot non-normalized confusion matrices\n",
    "plt.figure()\n",
    "plot_confusion_matrix(train_matrix, classes=classes_names, title='Confusion matrix (train data), without normalization');\n",
    "plt.figure()\n",
    "plot_confusion_matrix(cnf_matrix, classes=classes_names, title='Confusion matrix (test data), without normalization');\n",
    "\n",
    "plt.show()"
   ]
  },
  {
   "cell_type": "code",
   "execution_count": null,
   "metadata": {
    "collapsed": true
   },
   "outputs": [],
   "source": [
    "#Creamos la columna en la cual pondremos las predicciones del modelo\n",
    "df['Model_output'] = np.zeros(df.shape[0])\n",
    "df.iloc[0:sep_index,-1] = y_predicted_train\n",
    "df.iloc[sep_index:,-1] = y_predicted_test"
   ]
  },
  {
   "cell_type": "code",
   "execution_count": null,
   "metadata": {
    "collapsed": true
   },
   "outputs": [],
   "source": [
    "#Definimos nuestra venta: se vende 5 días luego de una compra, si no se han generado más señales de compra en ese periodo\n",
    "df['Ventas'] = np.zeros(df.shape[0],)\n",
    "\n",
    "d1 = df['Model_output'].shift(1)\n",
    "d2 = df['Model_output'].shift(2)\n",
    "d3 = df['Model_output'].shift(3)\n",
    "#d4 = df['Model_output'].shift(4)\n",
    "\n",
    "for index in range(df.shape[0]):\n",
    "    if (df['Model_output'].iloc[index] == 0) and (d1.iloc[index] == 0) and (d2.iloc[index] == 0) and (d3.iloc[index] == 1): #and (d4.iloc[index] == 1):\n",
    "        df['Ventas'].iloc[index] = 1\n",
    "    else:\n",
    "        df['Ventas'].iloc[index] = 0"
   ]
  },
  {
   "cell_type": "code",
   "execution_count": null,
   "metadata": {
    "collapsed": true
   },
   "outputs": [],
   "source": [
    "def model_eval(df):\n",
    "    indexes_ventas = df.Ventas[df.Ventas == 1][::-1].index.values\n",
    "\n",
    "    retornos = np.array([])\n",
    "\n",
    "    for pos2_v, pos1_v in enumerate(range(indexes_ventas.shape[0]),1):\n",
    "        \n",
    "        precio_venta = df.Close.loc[indexes_ventas[pos1_v]]\n",
    "        \n",
    "        if pos2_v == indexes_ventas.shape[0]:\n",
    "            precio_compra = df.Close.loc[:indexes_ventas[pos1_v]][df.Model_output == 1]        \n",
    "        else:\n",
    "            precio_compra = df.Close.loc[indexes_ventas[pos2_v]:indexes_ventas[pos1_v]][df.Model_output == 1]\n",
    "        \n",
    "        retorno = ((precio_venta - precio_compra) / precio_compra)*100\n",
    "        retornos = np.append(retornos, retorno.values)\n",
    "    retornos = retornos[::-1] #colocamos los retornos en orden cronológico\n",
    "    \n",
    "    lucro = retornos[retornos > 0] #retorno de los trades con lucro\n",
    "    perdidas = retornos[retornos < 0] #retorno de los trades con lucro\n",
    "    \n",
    "   \n",
    "    lucro_num = lucro.shape[0]\n",
    "    perdida_num = perdidas.shape[0]\n",
    "\n",
    "    #Metricas para evaluar todos los trades\n",
    "    trades_num = lucro_num + perdida_num\n",
    "    \n",
    "    if lucro_num > 0:\n",
    "        #Metricas para los trades con lucro\n",
    "        lucro_perc = (lucro_num / trades_num)*100\n",
    "        lucro_val = np.sum(lucro)\n",
    "        lucro_promedio = lucro_val / lucro_num\n",
    "        lucro_max = lucro.max()\n",
    "        lucro_min = lucro.min()\n",
    "    else:\n",
    "        lucro_perc = \"-\"\n",
    "        lucro_val = 0\n",
    "        lucro_promedio = \"-\"\n",
    "        lucro_max = \"-\"\n",
    "        lucro_min = \"-\"\n",
    "    \n",
    "    if perdida_num > 0:    \n",
    "        #Metricas para los trades con perdidas\n",
    "        perdida_perc = (perdida_num / trades_num)*100\n",
    "        perdida_val = np.sum(perdidas)\n",
    "        perdida_promedio = perdida_val / perdida_num\n",
    "        perdida_max = perdidas.max()\n",
    "        perdida_min = perdidas.min()\n",
    "    else:\n",
    "        perdida_perc = \"-\"\n",
    "        perdida_val = 0\n",
    "        perdida_promedio = \"-\"\n",
    "        perdida_max = \"-\"\n",
    "        perdida_min = \"-\"       \n",
    "    \n",
    "    #Metricas para evaluar todos los trades\n",
    "    retorno_val = lucro_val + perdida_val\n",
    "    \n",
    "    strategy = pd.DataFrame(data=np.array([trades_num, retorno_val]), index=['# de trades','% de retorno'], columns=['metricas'])\n",
    "    strategy = strategy.round(2)\n",
    "    \n",
    "    lucro_perdidas =  np.array([[lucro_num, perdida_num],\n",
    "                                [lucro_perc, perdida_perc],\n",
    "                                [lucro_val, perdida_val],\n",
    "                                [lucro_promedio, perdida_promedio],\n",
    "                                [lucro_min, perdida_min],\n",
    "                                [lucro_max, perdida_max]])\n",
    "    \n",
    "    index = ['# de trades','% de trades', '% de retorno', '% promedio por trade', 'minimo trade', 'maximo trade']\n",
    "    \n",
    "    columns = ['c/ lucro','c/ perdidas']\n",
    "    \n",
    "    metrics = pd.DataFrame(data=lucro_perdidas, index=index, columns=columns)\n",
    "    metrics = metrics.round(2)\n",
    "    \n",
    "    return metrics, strategy"
   ]
  },
  {
   "cell_type": "code",
   "execution_count": null,
   "metadata": {
    "collapsed": true
   },
   "outputs": [],
   "source": [
    "metrics, strategy = model_eval(df)"
   ]
  },
  {
   "cell_type": "code",
   "execution_count": null,
   "metadata": {
    "collapsed": true
   },
   "outputs": [],
   "source": [
    "metrics"
   ]
  },
  {
   "cell_type": "code",
   "execution_count": null,
   "metadata": {
    "collapsed": true
   },
   "outputs": [],
   "source": [
    "strategy"
   ]
  },
  {
   "cell_type": "code",
   "execution_count": null,
   "metadata": {
    "collapsed": true
   },
   "outputs": [],
   "source": [
    "df_BT = df.iloc[:sep_index,:] #Periodo de entrenamiento o Backtesting\n",
    "df_New = df.iloc[sep_index:,:] #Periodo de prueba o la simulación de nuevos datos"
   ]
  },
  {
   "cell_type": "code",
   "execution_count": null,
   "metadata": {
    "collapsed": true
   },
   "outputs": [],
   "source": [
    "metrics_BT, strategy_BT = model_eval(df_BT)\n",
    "metrics_New, strategy_New = model_eval(df_New)"
   ]
  },
  {
   "cell_type": "code",
   "execution_count": null,
   "metadata": {
    "collapsed": true
   },
   "outputs": [],
   "source": [
    "metrics_BT"
   ]
  },
  {
   "cell_type": "code",
   "execution_count": null,
   "metadata": {
    "collapsed": true
   },
   "outputs": [],
   "source": [
    "strategy_BT"
   ]
  },
  {
   "cell_type": "code",
   "execution_count": null,
   "metadata": {
    "collapsed": true
   },
   "outputs": [],
   "source": [
    "metrics_New"
   ]
  },
  {
   "cell_type": "code",
   "execution_count": null,
   "metadata": {
    "collapsed": true
   },
   "outputs": [],
   "source": [
    "strategy_New"
   ]
  },
  {
   "cell_type": "code",
   "execution_count": null,
   "metadata": {
    "collapsed": true
   },
   "outputs": [],
   "source": []
  }
 ],
 "metadata": {
  "kernelspec": {
   "display_name": "Python 3",
   "language": "python",
   "name": "python3"
  },
  "language_info": {
   "codemirror_mode": {
    "name": "ipython",
    "version": 3
   },
   "file_extension": ".py",
   "mimetype": "text/x-python",
   "name": "python",
   "nbconvert_exporter": "python",
   "pygments_lexer": "ipython3",
   "version": "3.6.2"
  }
 },
 "nbformat": 4,
 "nbformat_minor": 2
}
